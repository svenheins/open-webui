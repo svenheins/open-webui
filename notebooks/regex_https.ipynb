{
 "cells": [
  {
   "cell_type": "code",
   "execution_count": 1,
   "metadata": {},
   "outputs": [
    {
     "name": "stdout",
     "output_type": "stream",
     "text": [
      "http://example.com/blah\n"
     ]
    }
   ],
   "source": [
    "import re\n",
    "\n",
    "myString = \"This is my tweet check it out http://example.com/blah\"\n",
    "\n",
    "print(re.search(\"(?P<url>https?://[^\\s]+)\", myString).group(\"url\"))"
   ]
  },
  {
   "cell_type": "code",
   "execution_count": 5,
   "metadata": {},
   "outputs": [
    {
     "data": {
      "text/plain": [
       "['https://tinyurl.com/blah', 'http://blabla.com']"
      ]
     },
     "execution_count": 5,
     "metadata": {},
     "output_type": "execute_result"
    }
   ],
   "source": [
    "s = 'This is my tweet check it out https://tinyurl.com/blah and http://blabla.com'\n",
    "re.findall(r'(https?://\\S+)', s)"
   ]
  }
 ],
 "metadata": {
  "kernelspec": {
   "display_name": "yt",
   "language": "python",
   "name": "python3"
  },
  "language_info": {
   "codemirror_mode": {
    "name": "ipython",
    "version": 3
   },
   "file_extension": ".py",
   "mimetype": "text/x-python",
   "name": "python",
   "nbconvert_exporter": "python",
   "pygments_lexer": "ipython3",
   "version": "3.11.0"
  }
 },
 "nbformat": 4,
 "nbformat_minor": 2
}
